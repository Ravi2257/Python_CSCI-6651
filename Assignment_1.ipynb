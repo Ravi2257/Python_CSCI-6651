{
 "cells": [
  {
   "cell_type": "code",
   "execution_count": 23,
   "id": "4d5f44e9-60cb-46cc-bb1b-1272bbbeaeb8",
   "metadata": {},
   "outputs": [
    {
     "name": "stdout",
     "output_type": "stream",
     "text": [
      "[{'Day': '\"1', 'MaxTemp': '90', 'AvgTemp': '82.1', 'MinTemp': '72', 'MaxDew': '75', 'AvgDew': '72.7', 'MinDew': '70', 'MaxHumidity': '93', 'AvgHumidity': '74.2', 'MinHumidity': '54', 'MaxWindSpeed': '10', 'AvgWindSpeed': '4.6', 'MinWindSpeed': '0', 'MaxPressure': '30', 'AvgPressure': '29.9', 'MinPressure': '29.9', 'Rain': '0\"'}, {'Day': '\"2', 'MaxTemp': '94', 'AvgTemp': '82', 'MinTemp': '74', 'MaxDew': '79', 'AvgDew': '76.5', 'MinDew': '72', 'MaxHumidity': '94', 'AvgHumidity': '84.5', 'MinHumidity': '58', 'MaxWindSpeed': '9', 'AvgWindSpeed': '4.6', 'MinWindSpeed': '0', 'MaxPressure': '29.9', 'AvgPressure': '29.9', 'MinPressure': '29.8', 'Rain': '0\"'}, {'Day': '\"3', 'MaxTemp': '92', 'AvgTemp': '79.8', 'MinTemp': '75', 'MaxDew': '79', 'AvgDew': '75.3', 'MinDew': '72', 'MaxHumidity': '94', 'AvgHumidity': '86.9', 'MinHumidity': '55', 'MaxWindSpeed': '18', 'AvgWindSpeed': '7', 'MinWindSpeed': '0', 'MaxPressure': '29.9', 'AvgPressure': '29.8', 'MinPressure': '29.8', 'Rain': '0.08\"'}, {'Day': '\"4', 'MaxTemp': '85', 'AvgTemp': '77.6', 'MinTemp': '73', 'MaxDew': '76', 'AvgDew': '73.8', 'MinDew': '69', 'MaxHumidity': '100', 'AvgHumidity': '88.3', 'MinHumidity': '69', 'MaxWindSpeed': '12', 'AvgWindSpeed': '5.8', 'MinWindSpeed': '0', 'MaxPressure': '30', 'AvgPressure': '29.9', 'MinPressure': '29.8', 'Rain': '0.59\"'}, {'Day': '\"5', 'MaxTemp': '88', 'AvgTemp': '76.9', 'MinTemp': '69', 'MaxDew': '75', 'AvgDew': '70.4', 'MinDew': '68', 'MaxHumidity': '100', 'AvgHumidity': '82', 'MinHumidity': '51', 'MaxWindSpeed': '8', 'AvgWindSpeed': '2.4', 'MinWindSpeed': '0', 'MaxPressure': '30', 'AvgPressure': '30', 'MinPressure': '29.9', 'Rain': '1.54\"'}]\n"
     ]
    }
   ],
   "source": [
    "\n",
    "#STU_ID = 00980049\n",
    "#STU_NAME : Yash barot\n",
    "\n",
    "file_path = 'weather_data.csv'  \n",
    "\n",
    "month_data = []\n",
    "with open(file_path, 'r') as f:\n",
    "    lines = f.readlines()\n",
    "\n",
    "\n",
    "headers = lines[0].strip().split('\\t')\n",
    "\n",
    "# read each data row\n",
    "for line in lines[1:]:\n",
    "    values = line.strip().split('\\t')\n",
    "    if len(values) != len(headers):  # skip bad rows\n",
    "        continue\n",
    "\n",
    "    dict_day = {\n",
    "        \"Day\": values[0],\n",
    "        \"MaxTemp\": values[1],\n",
    "        \"AvgTemp\": values[2],\n",
    "        \"MinTemp\": values[3],\n",
    "        \"MaxDew\": values[4],\n",
    "        \"AvgDew\": values[5],\n",
    "        \"MinDew\": values[6],\n",
    "        \"MaxHumidity\": values[7],\n",
    "        \"AvgHumidity\": values[8],\n",
    "        \"MinHumidity\": values[9],\n",
    "        \"MaxWindSpeed\": values[10],\n",
    "        \"AvgWindSpeed\": values[11],\n",
    "        \"MinWindSpeed\": values[12],\n",
    "        \"MaxPressure\": values[13],\n",
    "        \"AvgPressure\": values[14],\n",
    "        \"MinPressure\": values[15],\n",
    "        \"Rain\": values[16]\n",
    "    }\n",
    "    month_data.append(dict_day)\n",
    "\n",
    "# print first 5 days\n",
    "print(month_data[:5])\n",
    "\n"
   ]
  },
  {
   "cell_type": "code",
   "execution_count": 1,
   "id": "0c725677-febe-436f-a379-1c2da2b7557e",
   "metadata": {},
   "outputs": [
    {
     "name": "stdout",
     "output_type": "stream",
     "text": [
      "Day\tMax_temp\tMin_temp\tDifference\n",
      "----------------------------------------------\n"
     ]
    }
   ],
   "source": [
    "month_data=[]\n",
    "temp_differences = [float(day[\"MaxTemp\"]) - float(day[\"MinTemp\"]) for day in month_data]\n",
    "\n",
    "# Print the results\n",
    "print(\"Day\\tMax_temp\\tMin_temp\\tDifference\")\n",
    "print(\"----------------------------------------------\")\n",
    "for i, day in enumerate(month_data):\n",
    "    print(f\"{day['Day']}\\t{day['MaxTemp']}\\t{day['MinTemp']}\\t{temp_differences[i]:.1f}\")"
   ]
  },
  {
   "cell_type": "code",
   "execution_count": 2,
   "id": "906cc35e-7ba9-4d33-b157-43d607370510",
   "metadata": {},
   "outputs": [
    {
     "name": "stdout",
     "output_type": "stream",
     "text": [
      "Day\tRain_Amount\n",
      "----------------\n",
      "\n",
      "Total rainy days: 0\n",
      "Days with rain: []\n"
     ]
    }
   ],
   "source": [
    "\n",
    "rainy_days = {day[\"Day\"]: day[\"Rain\"] for day in month_data if day[\"Rain\"] > 0}\n",
    "\n",
    "print(\"Day\\tRain_Amount\")\n",
    "print(\"----------------\")\n",
    "for day, rain in rainy_days.items():\n",
    "    print(f\"{day}\\t{rain}\")\n",
    "print(f\"\\nTotal rainy days: {len(rainy_days)}\")\n",
    "print(f\"Days with rain: {list(rainy_days.keys())}\")"
   ]
  },
  {
   "cell_type": "code",
   "execution_count": 3,
   "id": "cc5c2b47-4166-4567-b7e6-ef3c705073ca",
   "metadata": {},
   "outputs": [
    {
     "name": "stdout",
     "output_type": "stream",
     "text": [
      "Days with Dangerous Wind (Max Wind Speed > 10 mph):\n",
      "Day\tMax Wind Speed\n",
      "-------------------\n",
      "\n",
      "Total days with dangerous wind: 0\n",
      "Days with max wind speed > 10 mph: []\n"
     ]
    }
   ],
   "source": [
    "month_data=[]\n",
    "dangerous_wind_days = {day[\"Day\"]: day[\"MaxWindSpeed\"] for day in month_data if day[\"MaxWindSpeed\"] > 10}\n",
    "\n",
    "print(\"Days with Dangerous Wind (Max Wind Speed > 10 mph):\")\n",
    "print(\"Day\\tMax Wind Speed\")\n",
    "print(\"-------------------\")\n",
    "for day, wind_speed in dangerous_wind_days.items():\n",
    "    print(f\"{day}\\t{wind_speed} mph\")\n",
    "print(f\"\\nTotal days with dangerous wind: {len(dangerous_wind_days)}\")\n",
    "print(f\"Days with max wind speed > 10 mph: {list(dangerous_wind_days.keys())}\")"
   ]
  },
  {
   "cell_type": "code",
   "execution_count": 3,
   "id": "b5acc07f-9018-4f11-a518-173c1bc4b798",
   "metadata": {},
   "outputs": [
    {
     "name": "stdout",
     "output_type": "stream",
     "text": [
      "Day\tDay Name\tRain Amount\n",
      "--------------------------------\n",
      "\n",
      "Total rainy weekends: 0\n"
     ]
    }
   ],
   "source": [
    "\n",
    "weekend_days = [6, 7, 13, 14, 20, 21, 27, 28]\n",
    "\n",
    "day_names = {\n",
    "    6: \"Saturday\", 7: \"Sunday\", 13: \"Saturday\", 14: \"Sunday\", \n",
    "    20: \"Saturday\", 21: \"Sunday\", 27: \"Saturday\", 28: \"Sunday\"\n",
    "}\n",
    "\n",
    "rainy_weekends = {\n",
    "    day[\"Day\"]: {\n",
    "        \"DayName\": day_names[day[\"Day\"]],\n",
    "        \"RainAmount\": day[\"Rain\"]\n",
    "    }\n",
    "    for day in month_data \n",
    "    if day[\"Day\"] in weekend_days and day[\"Rain\"] > 0\n",
    "}\n",
    "\n",
    "\n",
    "print(\"Day\\tDay Name\\tRain Amount\")\n",
    "print(\"--------------------------------\")\n",
    "for day, info in rainy_weekends.items():\n",
    "    print(f\"{day}\\t{info['DayName']}\\t\\t{info['RainAmount']}\")\n",
    "\n",
    "print(f\"\\nTotal rainy weekends: {len(rainy_weekends)}\")"
   ]
  },
  {
   "cell_type": "code",
   "execution_count": null,
   "id": "3735cb88-9c4a-40ba-93ea-94c78dc4a84b",
   "metadata": {},
   "outputs": [],
   "source": []
  }
 ],
 "metadata": {
  "kernelspec": {
   "display_name": "Python 3",
   "language": "python",
   "name": "python3"
  },
  "language_info": {
   "codemirror_mode": {
    "name": "ipython",
    "version": 3
   },
   "file_extension": ".py",
   "mimetype": "text/x-python",
   "name": "python",
   "nbconvert_exporter": "python",
   "pygments_lexer": "ipython3",
   "version": "3.12.3"
  }
 },
 "nbformat": 4,
 "nbformat_minor": 5
}
